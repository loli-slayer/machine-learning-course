{
  "nbformat": 4,
  "nbformat_minor": 0,
  "metadata": {
    "colab": {
      "name": "TranBaoNgoc_btw3.ipynb",
      "provenance": [],
      "collapsed_sections": []
    },
    "kernelspec": {
      "name": "python3",
      "display_name": "Python 3"
    }
  },
  "cells": [
    {
      "cell_type": "code",
      "metadata": {
        "id": "6rx3ZO1vQPNk"
      },
      "source": [
        "import numpy as np"
      ],
      "execution_count": 661,
      "outputs": []
    },
    {
      "cell_type": "code",
      "metadata": {
        "id": "jhCIvHHOW2VD"
      },
      "source": [
        "from sklearn.datasets import load_iris\n",
        "data = load_iris()\n",
        "X, Y = data.data, data.target"
      ],
      "execution_count": 662,
      "outputs": []
    },
    {
      "cell_type": "code",
      "metadata": {
        "id": "yj0R9qI1W7bo"
      },
      "source": [
        "# only classify class 1 vs. class 2\n",
        "idx = Y>0\n",
        "X=X[idx,:]\n",
        "Y=Y[idx]\n",
        "#X,Y"
      ],
      "execution_count": 663,
      "outputs": []
    },
    {
      "cell_type": "code",
      "metadata": {
        "id": "BVBaPGTYaAzF"
      },
      "source": [
        "import matplotlib.pyplot as plt\n",
        "#plt.scatter(X[:,0],X[:,1],c=Y) \n",
        "#plt.scatter(X[:,2],X[:,3],c=Y)"
      ],
      "execution_count": 664,
      "outputs": []
    },
    {
      "cell_type": "code",
      "metadata": {
        "id": "IEmW5azyIFgf"
      },
      "source": [
        "#data normalize z-score\n",
        "def z_score(x):\n",
        "  sig = np.std(x.T)\n",
        "  u = np.mean(x.T)\n",
        "  z = (x - u)/sig\n",
        "  return z\n",
        "for i in range(0,4):\n",
        "  X[:,i] = z_score(X[:,i])\n",
        "#X = z_score(X)\n",
        "Y = Y-1\n",
        "#print(Y)\n",
        "#Y = z_score(Y)\n",
        "#plt.scatter(X[:,0], X[:,1], c=Y)\n",
        "#plt.scatter(X[:,2],X[:,3],c=Y)\n",
        "#Y"
      ],
      "execution_count": 665,
      "outputs": []
    },
    {
      "cell_type": "code",
      "metadata": {
        "id": "36VPZNXeKU-3"
      },
      "source": [
        "X = np.concatenate((np.ones((Y.size, 1)), X), axis = 1)\n",
        "weight = np.zeros(X.shape[1])"
      ],
      "execution_count": 666,
      "outputs": []
    },
    {
      "cell_type": "code",
      "metadata": {
        "id": "tb_DoCn_tKHs"
      },
      "source": [
        "def sigmoid(z):\n",
        "  #z = z_score(z)\n",
        "  g = 1/(1+np.exp(-z))\n",
        "  return g\n",
        "#X = sigmoid(X)\n",
        "#Y = sigmoid(Y)\n",
        "#plt.scatter(X[:,0], X[:,1], c=Y)\n",
        "#Y"
      ],
      "execution_count": 667,
      "outputs": []
    },
    {
      "cell_type": "code",
      "metadata": {
        "colab": {
          "base_uri": "https://localhost:8080/"
        },
        "id": "EwotAH74NXXe",
        "outputId": "f57a6c21-875a-41ee-e8e8-aebad1efaee3"
      },
      "source": [
        "#define classification model + train in gradient_decent\n",
        "def loss_func(X,Y,weight):\n",
        "  z = X @ weight\n",
        "  h = sigmoid(z)\n",
        "  J = -np.sum(Y*np.log(h)+(1-Y)*np.log(1-h))/(Y.size)\n",
        "  return J\n",
        "#print(weight)\n",
        "alpha = 0.01\n",
        "ep = 10000\n",
        "def gradient_decent(X,Y,weight,alpha,ep):\n",
        "  for _ in range(ep):\n",
        "    w = np.dot(X.T, sigmoid(X @ weight) - Y)/(Y.size)\n",
        "    weight -= alpha*w\n",
        "    #j = loss_func(X, Y, weight)\n",
        "  return weight\n",
        "weight= gradient_decent(X,Y,weight,alpha,ep)\n",
        "print(weight)\n"
      ],
      "execution_count": 668,
      "outputs": [
        {
          "output_type": "stream",
          "text": [
            "[ 0.12047504 -0.44156746 -0.89309501  2.965364    3.3427994 ]\n"
          ],
          "name": "stdout"
        }
      ]
    },
    {
      "cell_type": "code",
      "metadata": {
        "colab": {
          "base_uri": "https://localhost:8080/"
        },
        "id": "m6cLO7JMHeDU",
        "outputId": "91e4671d-23ab-4551-e8f0-36617652c782"
      },
      "source": [
        "def accuracy(X, Y, weight):\n",
        "  y = []\n",
        "  for x in sigmoid(X @ weight):\n",
        "    if x > 0.5:\n",
        "      y.append(1)\n",
        "    else:\n",
        "      y.append(0)\n",
        "  ac = float(np.sum(Y == y))/(Y.size)\n",
        "  return ac\n",
        "ac = accuracy(X,Y,weight)\n",
        "ac  "
      ],
      "execution_count": 669,
      "outputs": [
        {
          "output_type": "execute_result",
          "data": {
            "text/plain": [
              "0.96"
            ]
          },
          "metadata": {
            "tags": []
          },
          "execution_count": 669
        }
      ]
    },
    {
      "cell_type": "code",
      "metadata": {
        "id": "bEmB2oiUVJ88"
      },
      "source": [
        "assert np.allclose(weight, np.array([0.12047504, -0.44156746, -0.89309501, 2.965364, 3.3427994]))"
      ],
      "execution_count": 670,
      "outputs": []
    },
    {
      "cell_type": "code",
      "metadata": {
        "colab": {
          "base_uri": "https://localhost:8080/"
        },
        "id": "lduc-_92RBJQ",
        "outputId": "fb868f6c-1d48-4656-d014-471db646a3ca"
      },
      "source": [
        "# do some fun code here and try to match this :)\n",
        "...\n",
        "x,y = data.data,data.target\n",
        "\n",
        "idx = y<2\n",
        "x=x[idx,:]\n",
        "y=y[idx]\n",
        "#y = y-1\n",
        "x = np.concatenate((np.ones((y.size, 1)), x), axis = 1)\n",
        "weight = np.zeros(x.shape[1])\n",
        "weight = gradient_decent(x,y,weight,alpha,ep)\n",
        "print('Weights:', weight)\n",
        "#h = 1 / (1 + np.exp(-x @ weight))\n",
        "loss = loss_func(x,y,weight)\n",
        "print('Loss:', loss)\n",
        "print('Accuracy:', accuracy(x, y, weight))\n"
      ],
      "execution_count": 671,
      "outputs": [
        {
          "output_type": "stream",
          "text": [
            "Weights: [-0.35063744 -0.5441255  -2.00273512  3.05886421  1.3406969 ]\n",
            "Loss: 0.007880423962674882\n",
            "Accuracy: 1.0\n"
          ],
          "name": "stdout"
        }
      ]
    }
  ]
}