{
  "nbformat": 4,
  "nbformat_minor": 0,
  "metadata": {
    "colab": {
      "name": "TranBaoNgoc_btw4.ipynb",
      "provenance": [],
      "toc_visible": true,
      "authorship_tag": "ABX9TyPph2/f9sfcfRScQxQnlVwb",
      "include_colab_link": true
    },
    "kernelspec": {
      "name": "python3",
      "display_name": "Python 3"
    }
  },
  "cells": [
    {
      "cell_type": "markdown",
      "metadata": {
        "id": "view-in-github",
        "colab_type": "text"
      },
      "source": [
        "<a href=\"https://colab.research.google.com/github/loli-slayer/machine-learning-course/blob/loli-slayer-patch-3/TranBaoNgoc_btw4.ipynb\" target=\"_parent\"><img src=\"https://colab.research.google.com/assets/colab-badge.svg\" alt=\"Open In Colab\"/></a>"
      ]
    },
    {
      "cell_type": "markdown",
      "metadata": {
        "id": "3dgb_csLFX2l"
      },
      "source": [
        "# Homework 4: KNN & K-Means\n",
        "Again, fill the ellipses `...` with code, and don't remove `assert` lines."
      ]
    },
    {
      "cell_type": "markdown",
      "metadata": {
        "id": "bBRYQvNOFX2y"
      },
      "source": [
        "### We will use the Iris dataset again.\n",
        "Just goes to show that `sklearn` makes things way too easy."
      ]
    },
    {
      "cell_type": "code",
      "metadata": {
        "id": "fkPMP3CEFX20"
      },
      "source": [
        "# load our dataset\n",
        "from sklearn.datasets import load_iris\n",
        "data = load_iris()\n",
        "X, Y = data['data'], data['target']"
      ],
      "execution_count": null,
      "outputs": []
    },
    {
      "cell_type": "code",
      "metadata": {
        "id": "FK2mU4yxFX21"
      },
      "source": [
        "# split our data into training and testing set with 90:10 ratio\n",
        "# use a fixed random state for reproducible results\n",
        "from sklearn.model_selection import train_test_split\n",
        "x_train, x_test, y_train, y_test = train_test_split(X, Y, test_size=0.1, random_state=42)"
      ],
      "execution_count": null,
      "outputs": []
    },
    {
      "cell_type": "code",
      "metadata": {
        "id": "r7XSdvpHFX22",
        "colab": {
          "base_uri": "https://localhost:8080/"
        },
        "outputId": "4938af72-e0ae-42bb-edf3-a692e3780a01"
      },
      "source": [
        "# z-score normalization.\n",
        "# Remember to scale the training and test set separately to avoid data snooping.\n",
        "# We use the training set's mu and sigma for the test set.\n",
        "from sklearn.preprocessing import StandardScaler\n",
        "scaler = StandardScaler()\n",
        "scaler.fit(x_train)\n",
        "x_train = scaler.transform(x_train)\n",
        "x_test = scaler.transform(x_test)\n",
        "type(x_train)"
      ],
      "execution_count": null,
      "outputs": [
        {
          "output_type": "execute_result",
          "data": {
            "text/plain": [
              "numpy.ndarray"
            ]
          },
          "metadata": {
            "tags": []
          },
          "execution_count": 40
        }
      ]
    },
    {
      "cell_type": "markdown",
      "metadata": {
        "id": "1PwXki9uFX23"
      },
      "source": [
        "### KNN: $k$-Nearest Neighbors\n",
        "Evaluate the test set with data from the training set.\n",
        "\n",
        "In case of ties, pick the smallest class (i.e. we prefer class 0 to class 1 to class 2)."
      ]
    },
    {
      "cell_type": "code",
      "metadata": {
        "id": "pC8v1AANFX24"
      },
      "source": [
        "import numpy as np\n",
        "from collections import Counter\n",
        "# Remember, no training is needed for KNN!\n",
        "def evaluateKNN_single(k, x_train, y_train, data):\n",
        "    '''\n",
        "    Evaluate the classification for `data` with k-nearest neighbor\n",
        "    given training set (x_train, y_train).\n",
        "\n",
        "    Note that this function takes in one input instead of the whole\n",
        "    testing set.\n",
        "    \n",
        "    Input:\n",
        "        k      : hyperparameter for KNN\n",
        "        x_train: features of training set\n",
        "        y_train: labels of training set\n",
        "        data   : features of the data point to be evaluated\n",
        "    Output:\n",
        "        Classification of the input data point.\n",
        "    '''\n",
        "    \n",
        "    # IMPLEMENT HERE\n",
        "    ...\n",
        "    w = np.linalg.norm(x_train - data, axis = 1) #euclide distance\n",
        "    knn = np.argpartition(w,k)[:k] #top k distance\n",
        "    y_most = Counter(y_train[knn]).most_common(1)[0][0] #get top 1 label\n",
        "    return y_most"
      ],
      "execution_count": null,
      "outputs": []
    },
    {
      "cell_type": "code",
      "metadata": {
        "id": "n2icbbmmFX25"
      },
      "source": [
        "# Evaluation code for the whole dataset\n",
        "def evaluateKNN(k, x_train=x_train, y_train=y_train, x_test=x_test, y_test=y_test):\n",
        "    correct = sum(map(lambda x: evaluateKNN_single(k, x_train, y_train, x[0]) == x[1], zip(x_test, y_test)))\n",
        "    print(f'Test accuracy with k={k}: {correct/len(y_test)*100:.4f}% ({correct}/{len(y_test)})')\n",
        "    # return the number of correct evaluations for us to check with the solution\n",
        "    return correct"
      ],
      "execution_count": null,
      "outputs": []
    },
    {
      "cell_type": "code",
      "metadata": {
        "id": "JxtmSP66FX25",
        "colab": {
          "base_uri": "https://localhost:8080/"
        },
        "outputId": "4672ef3b-0f82-432a-e24b-5404c476e0d5"
      },
      "source": [
        "# and let's see how good is our model with k=5\n",
        "assert evaluateKNN(5) == len(y_test), \"Incorrect accuracy for 5-NN!\""
      ],
      "execution_count": null,
      "outputs": [
        {
          "output_type": "stream",
          "text": [
            "Test accuracy with k=5: 100.0000% (15/15)\n"
          ],
          "name": "stdout"
        }
      ]
    },
    {
      "cell_type": "code",
      "metadata": {
        "id": "u5d-8SDTFX26",
        "colab": {
          "base_uri": "https://localhost:8080/"
        },
        "outputId": "bfb34ad7-33da-4ac9-ac46-26af5eaf1fa2"
      },
      "source": [
        "# What if we use 1-NN?\n",
        "assert evaluateKNN(1) == len(y_test) - 1, \"Incorrect accuracy for 1-NN!\""
      ],
      "execution_count": null,
      "outputs": [
        {
          "output_type": "stream",
          "text": [
            "Test accuracy with k=1: 93.3333% (14/15)\n"
          ],
          "name": "stdout"
        }
      ]
    },
    {
      "cell_type": "markdown",
      "metadata": {
        "id": "AKJh97jiFX27"
      },
      "source": [
        "### K-means clustering\n",
        "Use the first 3 data points as initial cluster centroids (medoids anyone?)\n",
        "\n",
        "Run the recaliberation step 10 times. Yes, it converges that quickly for a NP-hard problem."
      ]
    },
    {
      "cell_type": "code",
      "metadata": {
        "id": "goUyQ8oMFX27"
      },
      "source": [
        "def get_cluster_classification(x_data, centroids):\n",
        "    '''\n",
        "    A helper function that you will need later.\n",
        "    Classifies the points to their nearest cluster.\n",
        "    \n",
        "    Input:\n",
        "        x_data   : the data points\n",
        "        centroids: the cluster centroids\n",
        "    Output:\n",
        "        The centroid numbers that each data point belongs to (i.e. is nearest)\n",
        "    '''\n",
        "    \n",
        "    # IMPLEMENT HERE\n",
        "    ...\n",
        "    #cluster = []\n",
        "    cluster = np.array([np.argmin(np.linalg.norm(data_p - centroids, axis=1)) for data_p in x_data]) #c = argmin(||x-c||^2)\n",
        "    return cluster\n"
      ],
      "execution_count": null,
      "outputs": []
    },
    {
      "cell_type": "code",
      "metadata": {
        "id": "LitCaFbpFX28"
      },
      "source": [
        "def kmeans(x_train, k, step):\n",
        "    '''\n",
        "    An implementation of K-means clustering.\n",
        "    \n",
        "    Input:\n",
        "        k      : number of clusters\n",
        "        x_train: training dataset\n",
        "        step   : number of recaliberation steps\n",
        "    Output:\n",
        "        The centroids of the clusters (a k x d matrix)\n",
        "    '''\n",
        "    \n",
        "    # IMPLEMENT HERE\n",
        "    ...\n",
        "    centroids = x_train[:k]\n",
        "    for i in range(step):\n",
        "      clusters = get_cluster_classification(x_train,centroids)\n",
        "      #new_cens = []\n",
        "      new_cens = np.array([np.mean(x_train[clusters == i], axis = 0) for i in range(k)])\n",
        "      if np.allclose(new_cens, centroids): break\n",
        "      centroids = new_cens\n",
        "    return centroids\n",
        "\n"
      ],
      "execution_count": null,
      "outputs": []
    },
    {
      "cell_type": "code",
      "metadata": {
        "id": "1o0YdxluFX29"
      },
      "source": [
        "# we know that there are three classes\n",
        "centroids = kmeans(x_train, k=3, step=10)\n",
        "assert np.allclose(centroids, np.array([\n",
        "    [-1.02028733,  0.90854287, -1.32521428, -1.27540932],\n",
        "    [ 0.99363929,  0.01896468,  0.90355632,  0.92076921],\n",
        "    [-0.22539812, -1.02749927,  0.23322382,  0.15491878]\n",
        "])), \"Incorrect centroids for K-means!\""
      ],
      "execution_count": null,
      "outputs": []
    },
    {
      "cell_type": "markdown",
      "metadata": {
        "id": "Z3S1_gc7FX29"
      },
      "source": [
        "### K-means++\n",
        "Use the 4th data point as the intial centroid each step ([chosen with randomness](https://xkcd.com/221/)):\n",
        "- The first initial centroid should be the 4th data point.\n",
        "- The next initial centroids should be the 4th furthest data point."
      ]
    },
    {
      "cell_type": "code",
      "metadata": {
        "id": "yTPwyF25FX2-"
      },
      "source": [
        "def kmeanspp(x_train, k, step):\n",
        "    '''\n",
        "    An implementation of K-means++ clustering.\n",
        "    \n",
        "    Input:\n",
        "        k      : number of clusters\n",
        "        x_train: training dataset\n",
        "        step   : number of recaliberation steps\n",
        "    Output:\n",
        "        The centroids of the clusters (a k x d matrix)\n",
        "    '''\n",
        "    # initialize the centroids according to the above criteria\n",
        "    \n",
        "    # IMPLEMENT HERE\n",
        "    ...\n",
        "    centroids = [x_train[3]]\n",
        "    for _ in range(1,k):\n",
        "      centroids.append(x_train[np.argsort(np.linalg.norm(x_train-centroids[-1], axis = 1))[-k-1]])\n",
        "    centroids = np.array(centroids)\n",
        "    \n",
        "    # the rest should be identical to kmeans()\n",
        "    \n",
        "    # IMPLEMENT HERE\n",
        "    ...\n",
        "    for i in range(step):\n",
        "      clusters = get_cluster_classification(x_train,centroids)\n",
        "      #new_cens = []\n",
        "      new_cens = np.array([np.mean(x_train[clusters == i], axis = 0) for i in range(k)])\n",
        "      if np.allclose(new_cens, centroids): break\n",
        "      centroids = new_cens\n",
        "    return centroids"
      ],
      "execution_count": 68,
      "outputs": []
    },
    {
      "cell_type": "code",
      "metadata": {
        "id": "1XmZkApuFX2-"
      },
      "source": [
        "# now check if you did it correctly.\n",
        "centroidspp = kmeanspp(x_train, k=3, step=10)\n",
        "assert np.allclose(centroidspp, np.array([\n",
        "    [-0.0118057 , -0.87997489,  0.36942197,  0.30573876],\n",
        "    [ 1.15200055,  0.18878042,  0.98903982,  1.01136932],\n",
        "    [-1.03358934,  0.84835232, -1.32732076, -1.27380566]\n",
        "])), \"Incorrect centroids for K-means++!\""
      ],
      "execution_count": 69,
      "outputs": []
    },
    {
      "cell_type": "markdown",
      "metadata": {
        "id": "xTHvEKtOFX2_"
      },
      "source": [
        "### (Optional) Classification using clustering\n",
        "We can treat each cluster to be of a different class, and the class with most points in each cluster is the classification for that cluster. Think voting."
      ]
    },
    {
      "cell_type": "code",
      "metadata": {
        "id": "Tz2VJTqkFX2_"
      },
      "source": [
        "# get the associated classification for each cluster\n",
        "def get_cluster_label(centroids, x_train, y_train):\n",
        "    '''\n",
        "    Get the classification for each cluster using training set.\n",
        "    \n",
        "    Input:\n",
        "        centroids: the centroids of the clusters\n",
        "        x_train  : features of training set\n",
        "        y_train  : labels of training set\n",
        "    Output:\n",
        "        The classifications for the clusters.\n",
        "    '''\n",
        "    # remember to return a numpy array instead of a Python list!\n",
        "    \n",
        "    # IMPLEMENT HERE\n",
        "    ...\n",
        "    clusters = get_cluster_classification(x_train, centroids)\n",
        "    return np.array([Counter(y_train[clusters == i]).most_common(1)[0][0] for i in range(len(centroids))])"
      ],
      "execution_count": 70,
      "outputs": []
    },
    {
      "cell_type": "code",
      "metadata": {
        "id": "5T1Q8vqPFX3A"
      },
      "source": [
        "labels = get_cluster_label(centroids, x_train, y_train)\n",
        "labelspp = get_cluster_label(centroidspp, x_train, y_train)\n",
        "# each cluster nicely belongs to a different class\n",
        "assert (labels == [0, 2, 1]).all(), \"Incorrect K-means cluster label(s)!\"\n",
        "assert (labelspp == [1, 2, 0]).all(), \"Incorrect K-means++ cluster label(s)!\""
      ],
      "execution_count": 71,
      "outputs": []
    },
    {
      "cell_type": "code",
      "metadata": {
        "id": "oZQDFF-fFX3A"
      },
      "source": [
        "def evaluate_kmeans_classification(centroids, labels, x_data):\n",
        "    '''\n",
        "    Get the classification for each data point using centroid labels.\n",
        "    \n",
        "    Input:\n",
        "        centroids: the centroids of the clusters\n",
        "        labels   : the labels for the clusters\n",
        "        x_data   : the data to be classified\n",
        "    Output:\n",
        "        The classifications for the data.\n",
        "    '''\n",
        "    \n",
        "    # IMPLEMENT HERE\n",
        "    ...\n",
        "    cluster = np.array([np.argmin(np.linalg.norm(data_p - centroids, axis=1)) for data_p in x_data])\n",
        "    return np.array([labels[i] for i in cluster])\n"
      ],
      "execution_count": 72,
      "outputs": []
    },
    {
      "cell_type": "code",
      "metadata": {
        "id": "MiVgM9RxFX3B"
      },
      "source": [
        "# evaluate the classifications\n",
        "y_train_pred = evaluate_kmeans_classification(centroids, labels, x_train)\n",
        "y_test_pred = evaluate_kmeans_classification(centroids, labels, x_test)\n",
        "y_train_pred_pp = evaluate_kmeans_classification(centroidspp, labelspp, x_train)\n",
        "y_test_pred_pp = evaluate_kmeans_classification(centroidspp, labelspp, x_test)\n",
        "\n",
        "# and check for correctness\n",
        "assert (y_train_pred == [2, 2, 1, 1, 2, 0, 2, 0, 2, 2, 2, 2, 2, 0, 0, 0, 0, 2, 0, 0, 1, 2, 0, 0, 0, 1, 2, 2, 0, 0, 1, 2, 2, 2, 2, 1, 2, 1, 0, 2, 1, 0, 0, 0, 1, 2, 0, 0, 0, 1, 0, 1, 2, 0, 1, 1, 0, 2, 1, 1, 1, 2, 1, 0, 1, 2, 0, 0, 1, 2, 0, 2, 0, 0, 2, 1, 2, 1, 1, 2, 1, 0, 0, 1, 2, 0, 0, 0, 1, 2, 0, 2, 2, 0, 1, 2, 2, 2, 2, 0, 2, 1, 2, 1, 1, 2, 1, 2, 1, 0, 1, 2, 2, 0, 1, 2, 2, 0, 2, 0, 2, 2, 2, 1, 2, 1, 2, 1, 2, 0, 1, 1, 0, 1, 2]).all()\n",
        "assert (y_test_pred == [1, 0, 2, 1, 2, 0, 1, 2, 1, 1, 2, 0, 0, 0, 0]).all()\n",
        "assert (y_train_pred_pp == [2, 2, 1, 1, 2, 0, 1, 0, 2, 2, 2, 1, 2, 0, 0, 0, 0, 2, 0, 0, 1, 2, 0, 0, 0, 1, 2, 2, 0, 0, 1, 1, 2, 2, 2, 1, 2, 1, 0, 2, 1, 0, 0, 0, 1, 1, 0, 0, 0, 1, 0, 1, 2, 0, 1, 1, 0, 1, 1, 1, 1, 2, 1, 0, 1, 1, 0, 0, 1, 2, 0, 1, 0, 0, 2, 1, 2, 1, 1, 2, 1, 0, 0, 1, 2, 0, 0, 0, 1, 2, 0, 2, 2, 0, 1, 1, 1, 2, 2, 0, 2, 1, 2, 1, 1, 1, 0, 1, 1, 0, 1, 2, 2, 0, 1, 2, 2, 0, 2, 0, 2, 2, 2, 1, 2, 1, 1, 1, 1, 0, 1, 1, 0, 1, 2]).all()\n",
        "assert (y_test_pred_pp == [1, 0, 2, 1, 2, 0, 1, 2, 1, 1, 2, 0, 0, 0, 0]).all()"
      ],
      "execution_count": 73,
      "outputs": []
    },
    {
      "cell_type": "code",
      "metadata": {
        "id": "JPAPoiXBFX3D",
        "colab": {
          "base_uri": "https://localhost:8080/"
        },
        "outputId": "319aa335-78ee-4fca-83c8-238582991799"
      },
      "source": [
        "# evaluate prediction accuracy\n",
        "print('[+] For K-means:')\n",
        "train_score = np.sum(y_train_pred == y_train)\n",
        "print(f'Training accuracy: {train_score / len(y_train) * 100:.4f}% ({train_score}/{len(y_train)})')\n",
        "train_score = np.sum(y_test_pred == y_test)\n",
        "print(f'Training accuracy: {train_score / len(y_test) * 100:.4f}% ({train_score}/{len(y_test)})')\n",
        "print('[+] For K-means++:')\n",
        "train_score = np.sum(y_train_pred_pp == y_train)\n",
        "print(f'Training accuracy: {train_score / len(y_train) * 100:.4f}% ({train_score}/{len(y_train)})')\n",
        "train_score = np.sum(y_test_pred_pp == y_test)\n",
        "print(f'Training accuracy: {train_score / len(y_test) * 100:.4f}% ({train_score}/{len(y_test)})')"
      ],
      "execution_count": 74,
      "outputs": [
        {
          "output_type": "stream",
          "text": [
            "[+] For K-means:\n",
            "Training accuracy: 82.9630% (112/135)\n",
            "Training accuracy: 93.3333% (14/15)\n",
            "[+] For K-means++:\n",
            "Training accuracy: 80.0000% (108/135)\n",
            "Training accuracy: 93.3333% (14/15)\n"
          ],
          "name": "stdout"
        }
      ]
    },
    {
      "cell_type": "code",
      "metadata": {
        "id": "npchHkOoFX3E",
        "colab": {
          "base_uri": "https://localhost:8080/",
          "height": 607
        },
        "outputId": "48292c30-1f32-420e-e333-a339762d8d35"
      },
      "source": [
        "# and plot out confusion matrix\n",
        "from sklearn.metrics import confusion_matrix\n",
        "import matplotlib.pyplot as plt\n",
        "import seaborn as sn\n",
        "\n",
        "plt.figure(figsize=(10,10))\n",
        "fig = plt.subplot(2, 2, 1)\n",
        "sn.heatmap(confusion_matrix(y_train, y_train_pred), annot=True, cbar=False, square=True, linewidths=0.5)\n",
        "fig.set_title('K-means, train set')\n",
        "\n",
        "fig = plt.subplot(2, 2, 2)\n",
        "sn.heatmap(confusion_matrix(y_test, y_test_pred), annot=True, cbar=False, square=True, linewidths=0.5)\n",
        "fig.set_title('K-means, test set')\n",
        "\n",
        "fig = plt.subplot(2, 2, 3)\n",
        "sn.heatmap(confusion_matrix(y_train, y_train_pred_pp), annot=True, cbar=False, square=True, linewidths=0.5)\n",
        "fig.set_title('K-means++, train set')\n",
        "\n",
        "fig = plt.subplot(2, 2, 4)\n",
        "sn.heatmap(confusion_matrix(y_test, y_test_pred_pp), annot=True, cbar=False, square=True, linewidths=0.5)\n",
        "fig.set_title('K-means++, test set');"
      ],
      "execution_count": 75,
      "outputs": [
        {
          "output_type": "display_data",
          "data": {
            "image/png": "[encoded data removed]",
            "text/plain": [
              "<Figure size 720x720 with 4 Axes>"
            ]
          },
          "metadata": {
            "tags": [],
            "needs_background": "light"
          }
        }
      ]
    }
  ]
}